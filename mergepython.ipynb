{
 "cells": [
  {
   "cell_type": "code",
   "execution_count": 1,
   "metadata": {},
   "outputs": [],
   "source": [
    "import pandas as pd\n",
    "\n",
    "# Load data\n",
    "stores_df = pd.read_csv(\"cleaned_stores.csv\")\n",
    "sales_df = pd.read_csv(\"cleaned_salesdf.csv\")\n",
    "products_df = pd.read_csv(\"cleaned_products.csv\")\n",
    "exchange_rates_df = pd.read_csv(\"cleaned_exchangerates.csv\")\n",
    "customers_df = pd.read_csv(\"cleaned_customers.csv\")\n"
   ]
  },
  {
   "cell_type": "code",
   "execution_count": 2,
   "metadata": {},
   "outputs": [],
   "source": [
    "sales_products_df = pd.merge(sales_df, products_df, on='ProductKey', how='left')\n"
   ]
  },
  {
   "cell_type": "code",
   "execution_count": 3,
   "metadata": {},
   "outputs": [],
   "source": [
    "sales_products_stores_df = pd.merge(sales_products_df, stores_df, on='StoreKey', how='left')\n"
   ]
  },
  {
   "cell_type": "code",
   "execution_count": 4,
   "metadata": {},
   "outputs": [],
   "source": [
    "sales_products_stores_customers_df = pd.merge(sales_products_stores_df, customers_df, on='CustomerKey', how='left')\n"
   ]
  },
  {
   "cell_type": "code",
   "execution_count": 6,
   "metadata": {},
   "outputs": [],
   "source": [
    "exchange_rates_df['Date'] = pd.to_datetime(exchange_rates_df['Date'])\n"
   ]
  },
  {
   "cell_type": "code",
   "execution_count": 7,
   "metadata": {},
   "outputs": [],
   "source": [
    "# Merge with exchange rates based on Date and Currency Code\n",
    "merged_df = pd.merge(sales_products_stores_customers_df, exchange_rates_df, \n",
    "                     left_on=['Order Date', 'Currency Code'], \n",
    "                     right_on=['Date', 'Currency'], \n",
    "                     how='left')\n"
   ]
  },
  {
   "cell_type": "code",
   "execution_count": 9,
   "metadata": {},
   "outputs": [],
   "source": [
    "# Drop the original Date column from the exchange rates DataFrame\n",
    "merged_df = merged_df.drop(columns=['Date'])\n",
    "\n",
    "# Rename columns if needed\n",
    "merged_df = merged_df.rename(columns={'Exchange': 'Exchange Rate'})\n"
   ]
  },
  {
   "cell_type": "code",
   "execution_count": 10,
   "metadata": {},
   "outputs": [
    {
     "name": "stdout",
     "output_type": "stream",
     "text": [
      "   Order Number  Line Item Order Date  CustomerKey  StoreKey  ProductKey  \\\n",
      "0        366000          1 2016-01-01       265598        10        1304   \n",
      "1        366001          1 2016-01-01      1269051         0        1048   \n",
      "2        366001          2 2016-01-01      1269051         0        2007   \n",
      "3        366002          1 2016-01-01       266019         0        1106   \n",
      "4        366002          2 2016-01-01       266019         0         373   \n",
      "\n",
      "   Quantity Currency Code                            Product Name  \\\n",
      "0         1           CAD         Contoso Lens Adapter M450 White   \n",
      "1         2           USD         A. Datum SLR Camera X136 Silver   \n",
      "2         1           USD  Fabrikam Microwave 1.5CuFt X1100 Black   \n",
      "3         7           CAD          Contoso SLR Camera M146 Orange   \n",
      "4         1           CAD   Adventure Works Laptop8.9 E0890 White   \n",
      "\n",
      "             Brand  ...            Name      City  State Code     State_y  \\\n",
      "0          Contoso  ...    Tyler Vaught    London          ON     Ontario   \n",
      "1         A. Datum  ...  Frank Upchurch   Auberry          CA  California   \n",
      "2         Fabrikam  ...  Frank Upchurch   Auberry          CA  California   \n",
      "3          Contoso  ...      Joan Roche  Red Deer          AB     Alberta   \n",
      "4  Adventure Works  ...      Joan Roche  Red Deer          AB     Alberta   \n",
      "\n",
      "  Zip Code      Country_y      Continent   Age Currency  Exchange Rate  \n",
      "0  N5W 5K6         Canada  North America  53.0      CAD         1.3884  \n",
      "1    93602  United States  North America  28.0      USD         1.0000  \n",
      "2    93602  United States  North America  28.0      USD         1.0000  \n",
      "3  T4N 2A6         Canada  North America  61.0      CAD         1.3884  \n",
      "4  T4N 2A6         Canada  North America  61.0      CAD         1.3884  \n",
      "\n",
      "[5 rows x 32 columns]\n",
      "<class 'pandas.core.frame.DataFrame'>\n",
      "RangeIndex: 62884 entries, 0 to 62883\n",
      "Data columns (total 32 columns):\n",
      " #   Column          Non-Null Count  Dtype         \n",
      "---  ------          --------------  -----         \n",
      " 0   Order Number    62884 non-null  int64         \n",
      " 1   Line Item       62884 non-null  int64         \n",
      " 2   Order Date      62884 non-null  datetime64[ns]\n",
      " 3   CustomerKey     62884 non-null  int64         \n",
      " 4   StoreKey        62884 non-null  int64         \n",
      " 5   ProductKey      62884 non-null  int64         \n",
      " 6   Quantity        62884 non-null  int64         \n",
      " 7   Currency Code   62884 non-null  object        \n",
      " 8   Product Name    62884 non-null  object        \n",
      " 9   Brand           62884 non-null  object        \n",
      " 10  Color           62884 non-null  object        \n",
      " 11  Unit Cost USD   62884 non-null  float64       \n",
      " 12  Unit Price USD  62884 non-null  float64       \n",
      " 13  SubcategoryKey  62884 non-null  int64         \n",
      " 14  Subcategory     62884 non-null  object        \n",
      " 15  CategoryKey     62884 non-null  int64         \n",
      " 16  Category        62884 non-null  object        \n",
      " 17  Country_x       62884 non-null  object        \n",
      " 18  State_x         62884 non-null  object        \n",
      " 19  Square Meters   62884 non-null  float64       \n",
      " 20  Open Date       62884 non-null  object        \n",
      " 21  Gender          62854 non-null  object        \n",
      " 22  Name            62854 non-null  object        \n",
      " 23  City            62854 non-null  object        \n",
      " 24  State Code      62854 non-null  object        \n",
      " 25  State_y         62854 non-null  object        \n",
      " 26  Zip Code        62854 non-null  object        \n",
      " 27  Country_y       62854 non-null  object        \n",
      " 28  Continent       62854 non-null  object        \n",
      " 29  Age             62854 non-null  float64       \n",
      " 30  Currency        62884 non-null  object        \n",
      " 31  Exchange Rate   62884 non-null  float64       \n",
      "dtypes: datetime64[ns](1), float64(5), int64(8), object(18)\n",
      "memory usage: 15.4+ MB\n",
      "None\n"
     ]
    }
   ],
   "source": [
    "print(merged_df.head())\n",
    "print(merged_df.info())\n"
   ]
  },
  {
   "cell_type": "code",
   "execution_count": 11,
   "metadata": {},
   "outputs": [],
   "source": [
    "# Saving the cleaned dataframe to a CSV file\n",
    "merged_df.to_csv('mergeddfs.csv', index=False)"
   ]
  },
  {
   "cell_type": "code",
   "execution_count": 13,
   "metadata": {},
   "outputs": [],
   "source": [
    "merged_df = pd.read_csv(\"mergeddfs.csv\")"
   ]
  },
  {
   "cell_type": "code",
   "execution_count": 14,
   "metadata": {},
   "outputs": [
    {
     "name": "stdout",
     "output_type": "stream",
     "text": [
      "Order Number       0\n",
      "Line Item          0\n",
      "Order Date         0\n",
      "CustomerKey        0\n",
      "StoreKey           0\n",
      "ProductKey         0\n",
      "Quantity           0\n",
      "Currency Code      0\n",
      "Product Name       0\n",
      "Brand              0\n",
      "Color              0\n",
      "Unit Cost USD      0\n",
      "Unit Price USD     0\n",
      "SubcategoryKey     0\n",
      "Subcategory        0\n",
      "CategoryKey        0\n",
      "Category           0\n",
      "Country_x          0\n",
      "State_x            0\n",
      "Square Meters      0\n",
      "Open Date          0\n",
      "Gender            30\n",
      "Name              30\n",
      "City              30\n",
      "State Code        30\n",
      "State_y           30\n",
      "Zip Code          30\n",
      "Country_y         30\n",
      "Continent         30\n",
      "Age               30\n",
      "Currency           0\n",
      "Exchange Rate      0\n",
      "dtype: int64\n"
     ]
    }
   ],
   "source": [
    "# Check for missing values\n",
    "print(merged_df.isnull().sum())"
   ]
  },
  {
   "cell_type": "code",
   "execution_count": 15,
   "metadata": {},
   "outputs": [
    {
     "name": "stdout",
     "output_type": "stream",
     "text": [
      "Order Number      0\n",
      "Line Item         0\n",
      "Order Date        0\n",
      "CustomerKey       0\n",
      "StoreKey          0\n",
      "ProductKey        0\n",
      "Quantity          0\n",
      "Currency Code     0\n",
      "Product Name      0\n",
      "Brand             0\n",
      "Color             0\n",
      "Unit Cost USD     0\n",
      "Unit Price USD    0\n",
      "SubcategoryKey    0\n",
      "Subcategory       0\n",
      "CategoryKey       0\n",
      "Category          0\n",
      "Country_x         0\n",
      "State_x           0\n",
      "Square Meters     0\n",
      "Open Date         0\n",
      "Gender            0\n",
      "Name              0\n",
      "City              0\n",
      "State Code        0\n",
      "State_y           0\n",
      "Zip Code          0\n",
      "Country_y         0\n",
      "Continent         0\n",
      "Age               0\n",
      "Currency          0\n",
      "Exchange Rate     0\n",
      "dtype: int64\n",
      "   Order Number  Line Item  Order Date  CustomerKey  StoreKey  ProductKey  \\\n",
      "0        366000          1  2016-01-01       265598        10        1304   \n",
      "1        366001          1  2016-01-01      1269051         0        1048   \n",
      "2        366001          2  2016-01-01      1269051         0        2007   \n",
      "3        366002          1  2016-01-01       266019         0        1106   \n",
      "4        366002          2  2016-01-01       266019         0         373   \n",
      "\n",
      "   Quantity Currency Code                            Product Name  \\\n",
      "0         1           CAD         Contoso Lens Adapter M450 White   \n",
      "1         2           USD         A. Datum SLR Camera X136 Silver   \n",
      "2         1           USD  Fabrikam Microwave 1.5CuFt X1100 Black   \n",
      "3         7           CAD          Contoso SLR Camera M146 Orange   \n",
      "4         1           CAD   Adventure Works Laptop8.9 E0890 White   \n",
      "\n",
      "             Brand  ...            Name      City  State Code     State_y  \\\n",
      "0          Contoso  ...    Tyler Vaught    London          ON     Ontario   \n",
      "1         A. Datum  ...  Frank Upchurch   Auberry          CA  California   \n",
      "2         Fabrikam  ...  Frank Upchurch   Auberry          CA  California   \n",
      "3          Contoso  ...      Joan Roche  Red Deer          AB     Alberta   \n",
      "4  Adventure Works  ...      Joan Roche  Red Deer          AB     Alberta   \n",
      "\n",
      "  Zip Code      Country_y      Continent   Age Currency  Exchange Rate  \n",
      "0  N5W 5K6         Canada  North America  53.0      CAD         1.3884  \n",
      "1    93602  United States  North America  28.0      USD         1.0000  \n",
      "2    93602  United States  North America  28.0      USD         1.0000  \n",
      "3  T4N 2A6         Canada  North America  61.0      CAD         1.3884  \n",
      "4  T4N 2A6         Canada  North America  61.0      CAD         1.3884  \n",
      "\n",
      "[5 rows x 32 columns]\n"
     ]
    }
   ],
   "source": [
    "import pandas as pd\n",
    "\n",
    "# Assuming merged_df is your DataFrame\n",
    "# Drop rows with missing values in specific columns\n",
    "cleaned_df = merged_df.dropna(subset=['Gender', 'Name', 'City', 'State Code', 'Age'])\n",
    "\n",
    "# Verify the cleaned DataFrame\n",
    "print(cleaned_df.isnull().sum())\n",
    "print(cleaned_df.head())\n"
   ]
  },
  {
   "cell_type": "code",
   "execution_count": 16,
   "metadata": {},
   "outputs": [],
   "source": [
    "# Saving the cleaned dataframe to a CSV file\n",
    "cleaned_df.to_csv('mergeddfs.csv', index=False)"
   ]
  },
  {
   "cell_type": "code",
   "execution_count": 8,
   "metadata": {},
   "outputs": [
    {
     "name": "stdout",
     "output_type": "stream",
     "text": [
      "Data has been successfully transferred to the merged_data table in the MySQL database.\n"
     ]
    }
   ],
   "source": [
    "import pandas as pd\n",
    "from sqlalchemy import create_engine\n",
    "\n",
    "csv_file_path = 'mergeddfs.csv'\n",
    "\n",
    "df = pd.read_csv(csv_file_path)\n",
    "\n",
    "engine = create_engine('mysql+pymysql://root:@localhost:3306/geanalysis')\n",
    "table_name = 'merged_data' \n",
    "\n",
    "df.to_sql(table_name, engine, if_exists='replace', index=False) \n",
    "print(f\"Data has been successfully transferred to the {table_name} table in the MySQL database.\")"
   ]
  },
  {
   "cell_type": "code",
   "execution_count": 9,
   "metadata": {},
   "outputs": [
    {
     "name": "stdout",
     "output_type": "stream",
     "text": [
      "Data has been successfully transferred to the sales_data table in the MySQL database.\n"
     ]
    }
   ],
   "source": [
    "import pandas as pd\n",
    "from sqlalchemy import create_engine\n",
    "\n",
    "csv_file_path = 'cleaned_salesdf.csv'\n",
    "\n",
    "df = pd.read_csv(csv_file_path)\n",
    "\n",
    "engine = create_engine('mysql+pymysql://root:@localhost:3306/geanalysis')\n",
    "table_name = 'sales_data' \n",
    "\n",
    "df.to_sql(table_name, engine, if_exists='replace', index=False) \n",
    "print(f\"Data has been successfully transferred to the {table_name} table in the MySQL database.\")"
   ]
  }
 ],
 "metadata": {
  "kernelspec": {
   "display_name": "env",
   "language": "python",
   "name": "python3"
  },
  "language_info": {
   "codemirror_mode": {
    "name": "ipython",
    "version": 3
   },
   "file_extension": ".py",
   "mimetype": "text/x-python",
   "name": "python",
   "nbconvert_exporter": "python",
   "pygments_lexer": "ipython3",
   "version": "3.12.4"
  }
 },
 "nbformat": 4,
 "nbformat_minor": 2
}
