{
 "cells": [
  {
   "cell_type": "code",
   "execution_count": 2,
   "metadata": {},
   "outputs": [],
   "source": [
    "import pandas as pd\n",
    "import numpy as np\n",
    "from datetime import datetime"
   ]
  },
  {
   "cell_type": "code",
   "execution_count": 23,
   "metadata": {},
   "outputs": [
    {
     "name": "stdout",
     "output_type": "stream",
     "text": [
      "       CustomerKey  Gender               Name                 City State Code  \\\n",
      "0              301  Female      Lilly Harding       WANDEARAH EAST         SA   \n",
      "1              325  Female       Madison Hull           MOUNT BUDD         WA   \n",
      "2              554  Female      Claire Ferres            WINJALLOK        VIC   \n",
      "3              786    Male  Jai Poltpalingada         MIDDLE RIVER         SA   \n",
      "4             1042    Male    Aidan Pankhurst        TAWONGA SOUTH        VIC   \n",
      "...            ...     ...                ...                  ...        ...   \n",
      "15261      2099600  Female     Denisa Duková              Houston         TX   \n",
      "15262      2099618    Male   Justin Solórzano               Mclean         VA   \n",
      "15263      2099758    Male    Svend Petrussen           Wilmington         NC   \n",
      "15264      2099862  Female       Lorenza Rush            Riverside         CA   \n",
      "15265      2099937    Male   Zygmunt Kaminski  Bloomfield Township         MI   \n",
      "\n",
      "                   State Zip Code        Country      Continent    Birthday  \n",
      "0        South Australia     5523      Australia      Australia    7/3/1939  \n",
      "1      Western Australia     6522      Australia      Australia   9/27/1979  \n",
      "2               Victoria     3380      Australia      Australia   5/26/1947  \n",
      "3        South Australia     5223      Australia      Australia   9/17/1957  \n",
      "4               Victoria     3698      Australia      Australia  11/19/1965  \n",
      "...                  ...      ...            ...            ...         ...  \n",
      "15261              Texas    77017  United States  North America   3/25/1936  \n",
      "15262           Virginia    22101  United States  North America   2/16/1992  \n",
      "15263     North Carolina    28405  United States  North America   11/9/1937  \n",
      "15264         California    92501  United States  North America  10/12/1937  \n",
      "15265           Michigan    48302  United States  North America   8/18/1965  \n",
      "\n",
      "[15266 rows x 10 columns]\n"
     ]
    }
   ],
   "source": [
    "import pandas as pd\n",
    "\n",
    "# Try using 'latin1' encoding\n",
    "customersdf = pd.read_csv(\"C:/GLOBAL_ELECTRONICS/env/Customers.csv\", encoding='latin1')\n",
    "\n",
    "\n",
    "print(customersdf)\n"
   ]
  },
  {
   "cell_type": "code",
   "execution_count": 24,
   "metadata": {},
   "outputs": [
    {
     "name": "stdout",
     "output_type": "stream",
     "text": [
      "   CustomerKey  Gender               Name            City State Code  \\\n",
      "0          301  Female      Lilly Harding  WANDEARAH EAST         SA   \n",
      "1          325  Female       Madison Hull      MOUNT BUDD         WA   \n",
      "2          554  Female      Claire Ferres       WINJALLOK        VIC   \n",
      "3          786    Male  Jai Poltpalingada    MIDDLE RIVER         SA   \n",
      "4         1042    Male    Aidan Pankhurst   TAWONGA SOUTH        VIC   \n",
      "5         1086    Male       Hayden Clegg        TEMPLERS         SA   \n",
      "6         1133    Male    Nicholas Caffyn  JUBILEE POCKET        QLD   \n",
      "7         1256    Male      Lincoln Jenks        KULLOGUM        QLD   \n",
      "8         1314    Male       Isaac Israel     EDITH RIVER         NT   \n",
      "9         1568    Male        Luke Virtue           KOTTA        VIC   \n",
      "\n",
      "                State Zip Code    Country  Continent    Birthday  \n",
      "0     South Australia     5523  Australia  Australia    7/3/1939  \n",
      "1   Western Australia     6522  Australia  Australia   9/27/1979  \n",
      "2            Victoria     3380  Australia  Australia   5/26/1947  \n",
      "3     South Australia     5223  Australia  Australia   9/17/1957  \n",
      "4            Victoria     3698  Australia  Australia  11/19/1965  \n",
      "5     South Australia     5371  Australia  Australia   1/20/1954  \n",
      "6          Queensland     4802  Australia  Australia  11/22/1969  \n",
      "7          Queensland     4660  Australia  Australia   3/12/1950  \n",
      "8  Northern Territory      852  Australia  Australia  12/21/1965  \n",
      "9            Victoria     3565  Australia  Australia   7/25/1975  \n"
     ]
    }
   ],
   "source": [
    "print(customersdf.head(10))"
   ]
  },
  {
   "cell_type": "code",
   "execution_count": 25,
   "metadata": {},
   "outputs": [
    {
     "name": "stdout",
     "output_type": "stream",
     "text": [
      "<class 'pandas.core.frame.DataFrame'>\n",
      "RangeIndex: 15266 entries, 0 to 15265\n",
      "Data columns (total 10 columns):\n",
      " #   Column       Non-Null Count  Dtype \n",
      "---  ------       --------------  ----- \n",
      " 0   CustomerKey  15266 non-null  int64 \n",
      " 1   Gender       15266 non-null  object\n",
      " 2   Name         15266 non-null  object\n",
      " 3   City         15266 non-null  object\n",
      " 4   State Code   15256 non-null  object\n",
      " 5   State        15266 non-null  object\n",
      " 6   Zip Code     15266 non-null  object\n",
      " 7   Country      15266 non-null  object\n",
      " 8   Continent    15266 non-null  object\n",
      " 9   Birthday     15266 non-null  object\n",
      "dtypes: int64(1), object(9)\n",
      "memory usage: 1.2+ MB\n",
      "None\n"
     ]
    }
   ],
   "source": [
    "# Display summary information\n",
    "print(customersdf.info())\n"
   ]
  },
  {
   "cell_type": "code",
   "execution_count": 26,
   "metadata": {},
   "outputs": [
    {
     "name": "stdout",
     "output_type": "stream",
     "text": [
      "CustomerKey     0\n",
      "Gender          0\n",
      "Name            0\n",
      "City            0\n",
      "State Code     10\n",
      "State           0\n",
      "Zip Code        0\n",
      "Country         0\n",
      "Continent       0\n",
      "Birthday        0\n",
      "dtype: int64\n"
     ]
    }
   ],
   "source": [
    "# Check for missing values\n",
    "print(customersdf.isnull().sum())"
   ]
  },
  {
   "cell_type": "code",
   "execution_count": 27,
   "metadata": {},
   "outputs": [],
   "source": [
    "customersdf.dropna(subset=['State Code'], inplace=True)\n"
   ]
  },
  {
   "cell_type": "code",
   "execution_count": 28,
   "metadata": {},
   "outputs": [
    {
     "name": "stdout",
     "output_type": "stream",
     "text": [
      "CustomerKey    0\n",
      "Gender         0\n",
      "Name           0\n",
      "City           0\n",
      "State Code     0\n",
      "State          0\n",
      "Zip Code       0\n",
      "Country        0\n",
      "Continent      0\n",
      "Birthday       0\n",
      "dtype: int64\n"
     ]
    }
   ],
   "source": [
    "# Check for missing values\n",
    "print(customersdf.isnull().sum())"
   ]
  },
  {
   "cell_type": "code",
   "execution_count": 29,
   "metadata": {},
   "outputs": [],
   "source": [
    "# Ensure 'Zip Code' is treated as a string\n",
    "customersdf['Zip Code'] = customersdf['Zip Code'].astype(str)\n",
    "\n",
    "# Convert 'Birthday' to datetime\n",
    "customersdf['Birthday'] = pd.to_datetime(customersdf['Birthday'], format='%m/%d/%Y')\n",
    "\n",
    "# Optionally, convert 'CustomerKey' to string if it is an identifier\n",
    "customersdf['CustomerKey'] = customersdf['CustomerKey'].astype(str)"
   ]
  },
  {
   "cell_type": "code",
   "execution_count": 30,
   "metadata": {},
   "outputs": [],
   "source": [
    "# Convert the Birthday column to datetime\n",
    "customersdf['Birthday'] = pd.to_datetime(customersdf['Birthday'])\n"
   ]
  },
  {
   "cell_type": "code",
   "execution_count": 33,
   "metadata": {},
   "outputs": [],
   "source": [
    "# Function to calculate age\n",
    "def calculate_age(born):\n",
    "    today = datetime.today()\n",
    "    return today.year - born.year - ((today.month, today.day) < (born.month, born.day))\n",
    "\n",
    "# Apply the function to calculate age\n",
    "customersdf['Age'] = customersdf['Birthday'].apply(calculate_age)"
   ]
  },
  {
   "cell_type": "code",
   "execution_count": 34,
   "metadata": {},
   "outputs": [
    {
     "name": "stdout",
     "output_type": "stream",
     "text": [
      "      CustomerKey  Gender               Name                 City State Code  \\\n",
      "0             301  Female      Lilly Harding       WANDEARAH EAST         SA   \n",
      "1             325  Female       Madison Hull           MOUNT BUDD         WA   \n",
      "2             554  Female      Claire Ferres            WINJALLOK        VIC   \n",
      "3             786    Male  Jai Poltpalingada         MIDDLE RIVER         SA   \n",
      "4            1042    Male    Aidan Pankhurst        TAWONGA SOUTH        VIC   \n",
      "...           ...     ...                ...                  ...        ...   \n",
      "15261     2099600  Female     Denisa Duková              Houston         TX   \n",
      "15262     2099618    Male   Justin Solórzano               Mclean         VA   \n",
      "15263     2099758    Male    Svend Petrussen           Wilmington         NC   \n",
      "15264     2099862  Female       Lorenza Rush            Riverside         CA   \n",
      "15265     2099937    Male   Zygmunt Kaminski  Bloomfield Township         MI   \n",
      "\n",
      "                   State Zip Code        Country      Continent  Age  \n",
      "0        South Australia     5523      Australia      Australia   85  \n",
      "1      Western Australia     6522      Australia      Australia   44  \n",
      "2               Victoria     3380      Australia      Australia   77  \n",
      "3        South Australia     5223      Australia      Australia   66  \n",
      "4               Victoria     3698      Australia      Australia   58  \n",
      "...                  ...      ...            ...            ...  ...  \n",
      "15261              Texas    77017  United States  North America   88  \n",
      "15262           Virginia    22101  United States  North America   32  \n",
      "15263     North Carolina    28405  United States  North America   86  \n",
      "15264         California    92501  United States  North America   86  \n",
      "15265           Michigan    48302  United States  North America   58  \n",
      "\n",
      "[15256 rows x 10 columns]\n"
     ]
    }
   ],
   "source": [
    "# Drop the Birthday column\n",
    "customersdf = customersdf.drop(columns=['Birthday'])\n",
    "\n",
    "# Display the updated DataFrame\n",
    "print(customersdf)"
   ]
  },
  {
   "cell_type": "code",
   "execution_count": 35,
   "metadata": {},
   "outputs": [
    {
     "name": "stdout",
     "output_type": "stream",
     "text": [
      "<class 'pandas.core.frame.DataFrame'>\n",
      "Index: 15256 entries, 0 to 15265\n",
      "Data columns (total 10 columns):\n",
      " #   Column       Non-Null Count  Dtype \n",
      "---  ------       --------------  ----- \n",
      " 0   CustomerKey  15256 non-null  object\n",
      " 1   Gender       15256 non-null  object\n",
      " 2   Name         15256 non-null  object\n",
      " 3   City         15256 non-null  object\n",
      " 4   State Code   15256 non-null  object\n",
      " 5   State        15256 non-null  object\n",
      " 6   Zip Code     15256 non-null  object\n",
      " 7   Country      15256 non-null  object\n",
      " 8   Continent    15256 non-null  object\n",
      " 9   Age          15256 non-null  int64 \n",
      "dtypes: int64(1), object(9)\n",
      "memory usage: 1.3+ MB\n",
      "None\n"
     ]
    }
   ],
   "source": [
    "# Verify the changes\n",
    "print(customersdf.info())"
   ]
  },
  {
   "cell_type": "code",
   "execution_count": 11,
   "metadata": {},
   "outputs": [
    {
     "name": "stdout",
     "output_type": "stream",
     "text": [
      "object\n",
      "object\n"
     ]
    }
   ],
   "source": [
    "print(customersdf['Zip Code'].dtype)\n",
    "print(customersdf['CustomerKey'].dtype)\n"
   ]
  },
  {
   "cell_type": "code",
   "execution_count": 36,
   "metadata": {},
   "outputs": [
    {
     "name": "stdout",
     "output_type": "stream",
     "text": [
      "0\n"
     ]
    }
   ],
   "source": [
    "# Check for duplicate rows\n",
    "print(customersdf.duplicated().sum())"
   ]
  },
  {
   "cell_type": "code",
   "execution_count": 13,
   "metadata": {},
   "outputs": [
    {
     "name": "stdout",
     "output_type": "stream",
     "text": [
      "CustomerKey    0\n",
      "Gender         0\n",
      "Name           0\n",
      "City           0\n",
      "State Code     0\n",
      "State          0\n",
      "Zip Code       0\n",
      "Country        0\n",
      "Continent      0\n",
      "Birthday       0\n",
      "dtype: int64\n"
     ]
    }
   ],
   "source": [
    "# Check for missing values\n",
    "print(customersdf.isnull().sum())"
   ]
  },
  {
   "cell_type": "code",
   "execution_count": 37,
   "metadata": {},
   "outputs": [],
   "source": [
    "# Save the cleaned DataFrame to a new CSV file\n",
    "customersdf.to_csv('cleaned_customers.csv', index=False)\n"
   ]
  },
  {
   "cell_type": "code",
   "execution_count": 15,
   "metadata": {},
   "outputs": [
    {
     "name": "stdout",
     "output_type": "stream",
     "text": [
      "       Order Number  Line Item Order Date Delivery Date  CustomerKey  \\\n",
      "0            366000          1   1/1/2016           NaN       265598   \n",
      "1            366001          1   1/1/2016     1/13/2016      1269051   \n",
      "2            366001          2   1/1/2016     1/13/2016      1269051   \n",
      "3            366002          1   1/1/2016     1/12/2016       266019   \n",
      "4            366002          2   1/1/2016     1/12/2016       266019   \n",
      "...             ...        ...        ...           ...          ...   \n",
      "62879       2243030          1  2/20/2021           NaN      1216913   \n",
      "62880       2243031          1  2/20/2021     2/24/2021       511229   \n",
      "62881       2243032          1  2/20/2021     2/23/2021       331277   \n",
      "62882       2243032          2  2/20/2021     2/23/2021       331277   \n",
      "62883       2243032          3  2/20/2021     2/23/2021       331277   \n",
      "\n",
      "       StoreKey  ProductKey  Quantity Currency Code  \n",
      "0            10        1304         1           CAD  \n",
      "1             0        1048         2           USD  \n",
      "2             0        2007         1           USD  \n",
      "3             0        1106         7           CAD  \n",
      "4             0         373         1           CAD  \n",
      "...         ...         ...       ...           ...  \n",
      "62879        43         632         3           USD  \n",
      "62880         0          98         4           EUR  \n",
      "62881         0        1613         2           CAD  \n",
      "62882         0        1717         2           CAD  \n",
      "62883         0         464         7           CAD  \n",
      "\n",
      "[62884 rows x 9 columns]\n"
     ]
    }
   ],
   "source": [
    "salesdf = pd.read_csv(\"C:/GLOBAL_ELECTRONICS/env/Sales.csv\")\n",
    "print(salesdf)"
   ]
  },
  {
   "cell_type": "code",
   "execution_count": 16,
   "metadata": {},
   "outputs": [
    {
     "name": "stdout",
     "output_type": "stream",
     "text": [
      "<class 'pandas.core.frame.DataFrame'>\n",
      "RangeIndex: 62884 entries, 0 to 62883\n",
      "Data columns (total 9 columns):\n",
      " #   Column         Non-Null Count  Dtype \n",
      "---  ------         --------------  ----- \n",
      " 0   Order Number   62884 non-null  int64 \n",
      " 1   Line Item      62884 non-null  int64 \n",
      " 2   Order Date     62884 non-null  object\n",
      " 3   Delivery Date  13165 non-null  object\n",
      " 4   CustomerKey    62884 non-null  int64 \n",
      " 5   StoreKey       62884 non-null  int64 \n",
      " 6   ProductKey     62884 non-null  int64 \n",
      " 7   Quantity       62884 non-null  int64 \n",
      " 8   Currency Code  62884 non-null  object\n",
      "dtypes: int64(6), object(3)\n",
      "memory usage: 4.3+ MB\n",
      "None\n"
     ]
    }
   ],
   "source": [
    "# Display summary information\n",
    "print(salesdf.info())"
   ]
  },
  {
   "cell_type": "code",
   "execution_count": 17,
   "metadata": {},
   "outputs": [
    {
     "name": "stdout",
     "output_type": "stream",
     "text": [
      "Order Number         0\n",
      "Line Item            0\n",
      "Order Date           0\n",
      "Delivery Date    49719\n",
      "CustomerKey          0\n",
      "StoreKey             0\n",
      "ProductKey           0\n",
      "Quantity             0\n",
      "Currency Code        0\n",
      "dtype: int64\n"
     ]
    }
   ],
   "source": [
    "# Check for missing values\n",
    "print(salesdf.isnull().sum())"
   ]
  },
  {
   "cell_type": "code",
   "execution_count": 18,
   "metadata": {},
   "outputs": [
    {
     "name": "stdout",
     "output_type": "stream",
     "text": [
      "   Order Number  Line Item Order Date  CustomerKey  StoreKey  ProductKey  \\\n",
      "0        366000          1   1/1/2016       265598        10        1304   \n",
      "1        366001          1   1/1/2016      1269051         0        1048   \n",
      "2        366001          2   1/1/2016      1269051         0        2007   \n",
      "3        366002          1   1/1/2016       266019         0        1106   \n",
      "4        366002          2   1/1/2016       266019         0         373   \n",
      "\n",
      "   Quantity Currency Code  \n",
      "0         1           CAD  \n",
      "1         2           USD  \n",
      "2         1           USD  \n",
      "3         7           CAD  \n",
      "4         1           CAD  \n"
     ]
    }
   ],
   "source": [
    "# Drop the 'Delivery Date' column\n",
    "salesdf = salesdf.drop(columns=['Delivery Date'])\n",
    "\n",
    "# Verify the result\n",
    "print(salesdf.head())\n"
   ]
  },
  {
   "cell_type": "code",
   "execution_count": 19,
   "metadata": {},
   "outputs": [
    {
     "name": "stdout",
     "output_type": "stream",
     "text": [
      "Order Number     0\n",
      "Line Item        0\n",
      "Order Date       0\n",
      "CustomerKey      0\n",
      "StoreKey         0\n",
      "ProductKey       0\n",
      "Quantity         0\n",
      "Currency Code    0\n",
      "dtype: int64\n"
     ]
    }
   ],
   "source": [
    "# Check for missing values\n",
    "print(salesdf.isnull().sum())"
   ]
  },
  {
   "cell_type": "code",
   "execution_count": 20,
   "metadata": {},
   "outputs": [
    {
     "name": "stdout",
     "output_type": "stream",
     "text": [
      "Order Number             object\n",
      "Line Item                 int64\n",
      "Order Date       datetime64[ns]\n",
      "CustomerKey              object\n",
      "StoreKey                 object\n",
      "ProductKey               object\n",
      "Quantity                  int64\n",
      "Currency Code            object\n",
      "dtype: object\n"
     ]
    }
   ],
   "source": [
    "# Convert 'Order Date' and 'Delivery Date' to datetime\n",
    "salesdf['Order Date'] = pd.to_datetime(salesdf['Order Date'], format='%m/%d/%Y')\n",
    "\n",
    "# Optionally, convert 'Order Number', 'CustomerKey', 'StoreKey', and 'ProductKey' to string\n",
    "salesdf['Order Number'] = salesdf['Order Number'].astype(str)\n",
    "salesdf['CustomerKey'] = salesdf['CustomerKey'].astype(str)\n",
    "salesdf['StoreKey'] = salesdf['StoreKey'].astype(str)\n",
    "salesdf['ProductKey'] = salesdf['ProductKey'].astype(str)\n",
    "\n",
    "# Verify the conversions\n",
    "print(salesdf.dtypes)"
   ]
  },
  {
   "cell_type": "code",
   "execution_count": 21,
   "metadata": {},
   "outputs": [
    {
     "name": "stdout",
     "output_type": "stream",
     "text": [
      "   Order Number  Line Item  Order Date  CustomerKey  StoreKey  ProductKey  \\\n",
      "0        366000          1  2016-01-01       265598        10        1304   \n",
      "1        366001          1  2016-01-01      1269051         0        1048   \n",
      "2        366001          2  2016-01-01      1269051         0        2007   \n",
      "3        366002          1  2016-01-01       266019         0        1106   \n",
      "4        366002          2  2016-01-01       266019         0         373   \n",
      "\n",
      "   Quantity Currency Code  \n",
      "0         1           CAD  \n",
      "1         2           USD  \n",
      "2         1           USD  \n",
      "3         7           CAD  \n",
      "4         1           CAD  \n"
     ]
    }
   ],
   "source": [
    "# Save the cleaned DataFrame to a new CSV file\n",
    "salesdf.to_csv('cleaned_salesdf.csv', index=False)\n",
    "\n",
    "# Verify the file is saved by checking the current working directory or reading the file back\n",
    "# Example: Read the saved file to verify\n",
    "cleaned_salesdf = pd.read_csv('cleaned_salesdf.csv')\n",
    "print(cleaned_salesdf.head())\n"
   ]
  },
  {
   "cell_type": "code",
   "execution_count": 3,
   "metadata": {},
   "outputs": [
    {
     "name": "stdout",
     "output_type": "stream",
     "text": [
      "    StoreKey        Country                         State  Square Meters  \\\n",
      "0          1      Australia  Australian Capital Territory          595.0   \n",
      "1          2      Australia            Northern Territory          665.0   \n",
      "2          3      Australia               South Australia         2000.0   \n",
      "3          4      Australia                      Tasmania         2000.0   \n",
      "4          5      Australia                      Victoria         2000.0   \n",
      "..       ...            ...                           ...            ...   \n",
      "62        63  United States                          Utah         2000.0   \n",
      "63        64  United States                 Washington DC         1330.0   \n",
      "64        65  United States                 West Virginia         1785.0   \n",
      "65        66  United States                       Wyoming          840.0   \n",
      "66         0         Online                        Online            NaN   \n",
      "\n",
      "    Open Date  \n",
      "0    1/1/2008  \n",
      "1   1/12/2008  \n",
      "2    1/7/2012  \n",
      "3    1/1/2010  \n",
      "4   12/9/2015  \n",
      "..        ...  \n",
      "62   3/6/2008  \n",
      "63   1/1/2010  \n",
      "64   1/1/2012  \n",
      "65   1/1/2014  \n",
      "66   1/1/2010  \n",
      "\n",
      "[67 rows x 5 columns]\n"
     ]
    }
   ],
   "source": [
    "storesdf = pd.read_csv(\"C:/GLOBAL_ELECTRONICS/env/Stores.csv\")\n",
    "print(storesdf)"
   ]
  },
  {
   "cell_type": "code",
   "execution_count": 4,
   "metadata": {},
   "outputs": [
    {
     "name": "stdout",
     "output_type": "stream",
     "text": [
      "<class 'pandas.core.frame.DataFrame'>\n",
      "RangeIndex: 67 entries, 0 to 66\n",
      "Data columns (total 5 columns):\n",
      " #   Column         Non-Null Count  Dtype  \n",
      "---  ------         --------------  -----  \n",
      " 0   StoreKey       67 non-null     int64  \n",
      " 1   Country        67 non-null     object \n",
      " 2   State          67 non-null     object \n",
      " 3   Square Meters  66 non-null     float64\n",
      " 4   Open Date      67 non-null     object \n",
      "dtypes: float64(1), int64(1), object(3)\n",
      "memory usage: 2.7+ KB\n",
      "None\n"
     ]
    }
   ],
   "source": [
    "# Display summary information\n",
    "print(storesdf.info())"
   ]
  },
  {
   "cell_type": "code",
   "execution_count": 9,
   "metadata": {},
   "outputs": [
    {
     "name": "stdout",
     "output_type": "stream",
     "text": [
      "StoreKey         0\n",
      "Country          0\n",
      "State            0\n",
      "Square Meters    0\n",
      "Open Date        0\n",
      "dtype: int64\n"
     ]
    }
   ],
   "source": [
    "# Check for missing values\n",
    "print(storesdf.isnull().sum())"
   ]
  },
  {
   "cell_type": "code",
   "execution_count": null,
   "metadata": {},
   "outputs": [],
   "source": [
    "mean_value = storesdf['Square Meters'].mean()\n",
    "storesdf['Square Meters'].fillna(mean_value, inplace=True)\n"
   ]
  },
  {
   "cell_type": "code",
   "execution_count": 11,
   "metadata": {},
   "outputs": [],
   "source": [
    "storesdf['Open Date'] = pd.to_datetime(storesdf['Open Date'], dayfirst=False, errors='coerce')\n"
   ]
  },
  {
   "cell_type": "code",
   "execution_count": 12,
   "metadata": {},
   "outputs": [
    {
     "name": "stdout",
     "output_type": "stream",
     "text": [
      "<class 'pandas.core.frame.DataFrame'>\n",
      "RangeIndex: 67 entries, 0 to 66\n",
      "Data columns (total 5 columns):\n",
      " #   Column         Non-Null Count  Dtype         \n",
      "---  ------         --------------  -----         \n",
      " 0   StoreKey       67 non-null     int64         \n",
      " 1   Country        67 non-null     object        \n",
      " 2   State          67 non-null     object        \n",
      " 3   Square Meters  67 non-null     float64       \n",
      " 4   Open Date      67 non-null     datetime64[ns]\n",
      "dtypes: datetime64[ns](1), float64(1), int64(1), object(2)\n",
      "memory usage: 2.7+ KB\n",
      "None\n"
     ]
    }
   ],
   "source": [
    "# Display summary information\n",
    "print(storesdf.info())"
   ]
  },
  {
   "cell_type": "code",
   "execution_count": 13,
   "metadata": {},
   "outputs": [],
   "source": [
    "# Saving the cleaned dataframe to a CSV file\n",
    "storesdf.to_csv('cleaned_stores.csv', index=False)\n"
   ]
  },
  {
   "cell_type": "code",
   "execution_count": 14,
   "metadata": {},
   "outputs": [
    {
     "name": "stdout",
     "output_type": "stream",
     "text": [
      "      ProductKey                                   Product Name    Brand  \\\n",
      "0              1            Contoso 512MB MP3 Player E51 Silver  Contoso   \n",
      "1              2              Contoso 512MB MP3 Player E51 Blue  Contoso   \n",
      "2              3               Contoso 1G MP3 Player E100 White  Contoso   \n",
      "3              4              Contoso 2G MP3 Player E200 Silver  Contoso   \n",
      "4              5                 Contoso 2G MP3 Player E200 Red  Contoso   \n",
      "...          ...                                            ...      ...   \n",
      "2512        2513    Contoso Bluetooth Active Headphones L15 Red  Contoso   \n",
      "2513        2514  Contoso Bluetooth Active Headphones L15 White  Contoso   \n",
      "2514        2515             Contoso In-Line Coupler E180 White  Contoso   \n",
      "2515        2516             Contoso In-Line Coupler E180 Black  Contoso   \n",
      "2516        2517            Contoso In-Line Coupler E180 Silver  Contoso   \n",
      "\n",
      "       Color Unit Cost USD Unit Price USD  SubcategoryKey  \\\n",
      "0     Silver        $6.62         $12.99              101   \n",
      "1       Blue        $6.62         $12.99              101   \n",
      "2      White        $7.40         $14.52              101   \n",
      "3     Silver       $11.00         $21.57              101   \n",
      "4        Red       $11.00         $21.57              101   \n",
      "...      ...           ...            ...             ...   \n",
      "2512     Red       $43.07        $129.99              505   \n",
      "2513   White       $43.07        $129.99              505   \n",
      "2514   White        $1.71          $3.35              505   \n",
      "2515   Black        $1.71          $3.35              505   \n",
      "2516  Silver        $1.71          $3.35              505   \n",
      "\n",
      "                  Subcategory  CategoryKey     Category  \n",
      "0                     MP4&MP3            1        Audio  \n",
      "1                     MP4&MP3            1        Audio  \n",
      "2                     MP4&MP3            1        Audio  \n",
      "3                     MP4&MP3            1        Audio  \n",
      "4                     MP4&MP3            1        Audio  \n",
      "...                       ...          ...          ...  \n",
      "2512  Cell phones Accessories            5  Cell phones  \n",
      "2513  Cell phones Accessories            5  Cell phones  \n",
      "2514  Cell phones Accessories            5  Cell phones  \n",
      "2515  Cell phones Accessories            5  Cell phones  \n",
      "2516  Cell phones Accessories            5  Cell phones  \n",
      "\n",
      "[2517 rows x 10 columns]\n"
     ]
    }
   ],
   "source": [
    "productsdf = pd.read_csv(\"C:/GLOBAL_ELECTRONICS/env/Products.csv\")\n",
    "print(productsdf)"
   ]
  },
  {
   "cell_type": "code",
   "execution_count": 16,
   "metadata": {},
   "outputs": [
    {
     "name": "stdout",
     "output_type": "stream",
     "text": [
      "<class 'pandas.core.frame.DataFrame'>\n",
      "RangeIndex: 2517 entries, 0 to 2516\n",
      "Data columns (total 10 columns):\n",
      " #   Column          Non-Null Count  Dtype \n",
      "---  ------          --------------  ----- \n",
      " 0   ProductKey      2517 non-null   int64 \n",
      " 1   Product Name    2517 non-null   object\n",
      " 2   Brand           2517 non-null   object\n",
      " 3   Color           2517 non-null   object\n",
      " 4   Unit Cost USD   2517 non-null   object\n",
      " 5   Unit Price USD  2517 non-null   object\n",
      " 6   SubcategoryKey  2517 non-null   int64 \n",
      " 7   Subcategory     2517 non-null   object\n",
      " 8   CategoryKey     2517 non-null   int64 \n",
      " 9   Category        2517 non-null   object\n",
      "dtypes: int64(3), object(7)\n",
      "memory usage: 196.8+ KB\n",
      "None\n"
     ]
    }
   ],
   "source": [
    "# Display summary information\n",
    "print(productsdf.info())"
   ]
  },
  {
   "cell_type": "code",
   "execution_count": 18,
   "metadata": {},
   "outputs": [
    {
     "name": "stdout",
     "output_type": "stream",
     "text": [
      "ProductKey          int64\n",
      "Product Name       object\n",
      "Brand              object\n",
      "Color              object\n",
      "Unit Cost USD     float64\n",
      "Unit Price USD    float64\n",
      "SubcategoryKey      int64\n",
      "Subcategory        object\n",
      "CategoryKey         int64\n",
      "Category           object\n",
      "dtype: object\n"
     ]
    }
   ],
   "source": [
    "# Remove dollar signs and convert to float using raw strings\n",
    "productsdf['Unit Cost USD'] = productsdf['Unit Cost USD'].replace(r'[\\$,]', '', regex=True).astype(float)\n",
    "productsdf['Unit Price USD'] = productsdf['Unit Price USD'].replace(r'[\\$,]', '', regex=True).astype(float)\n",
    "\n",
    "# Display the data types to confirm the change\n",
    "print(productsdf.dtypes)"
   ]
  },
  {
   "cell_type": "code",
   "execution_count": 19,
   "metadata": {},
   "outputs": [
    {
     "name": "stdout",
     "output_type": "stream",
     "text": [
      "ProductKey        0\n",
      "Product Name      0\n",
      "Brand             0\n",
      "Color             0\n",
      "Unit Cost USD     0\n",
      "Unit Price USD    0\n",
      "SubcategoryKey    0\n",
      "Subcategory       0\n",
      "CategoryKey       0\n",
      "Category          0\n",
      "dtype: int64\n"
     ]
    }
   ],
   "source": [
    "# Check for missing values\n",
    "print(productsdf.isnull().sum())"
   ]
  },
  {
   "cell_type": "code",
   "execution_count": 20,
   "metadata": {},
   "outputs": [],
   "source": [
    "# Saving the cleaned dataframe to a CSV file\n",
    "productsdf.to_csv('cleaned_products.csv', index=False)"
   ]
  },
  {
   "cell_type": "code",
   "execution_count": 4,
   "metadata": {},
   "outputs": [
    {
     "name": "stdout",
     "output_type": "stream",
     "text": [
      "            Date Currency  Exchange\n",
      "0       1/1/2015      USD    1.0000\n",
      "1       1/1/2015      CAD    1.1583\n",
      "2       1/1/2015      AUD    1.2214\n",
      "3       1/1/2015      EUR    0.8237\n",
      "4       1/1/2015      GBP    0.6415\n",
      "...          ...      ...       ...\n",
      "11210  2/20/2021      USD    1.0000\n",
      "11211  2/20/2021      CAD    1.2610\n",
      "11212  2/20/2021      AUD    1.2723\n",
      "11213  2/20/2021      EUR    0.8238\n",
      "11214  2/20/2021      GBP    0.7126\n",
      "\n",
      "[11215 rows x 3 columns]\n"
     ]
    }
   ],
   "source": [
    "exchange_ratesdf = pd.read_csv(\"C:\\\\GLOBAL_ELECTRONICS\\\\env\\\\Exchange_Rates.csv\")\n",
    "\n",
    "print(exchange_ratesdf)"
   ]
  },
  {
   "cell_type": "code",
   "execution_count": 5,
   "metadata": {},
   "outputs": [
    {
     "name": "stdout",
     "output_type": "stream",
     "text": [
      "Date        0\n",
      "Currency    0\n",
      "Exchange    0\n",
      "dtype: int64\n"
     ]
    }
   ],
   "source": [
    "# Check for missing values\n",
    "print(exchange_ratesdf.isnull().sum())"
   ]
  },
  {
   "cell_type": "code",
   "execution_count": 6,
   "metadata": {},
   "outputs": [
    {
     "name": "stdout",
     "output_type": "stream",
     "text": [
      "<class 'pandas.core.frame.DataFrame'>\n",
      "RangeIndex: 11215 entries, 0 to 11214\n",
      "Data columns (total 3 columns):\n",
      " #   Column    Non-Null Count  Dtype  \n",
      "---  ------    --------------  -----  \n",
      " 0   Date      11215 non-null  object \n",
      " 1   Currency  11215 non-null  object \n",
      " 2   Exchange  11215 non-null  float64\n",
      "dtypes: float64(1), object(2)\n",
      "memory usage: 263.0+ KB\n",
      "None\n"
     ]
    }
   ],
   "source": [
    "# Display summary information\n",
    "print(exchange_ratesdf.info())"
   ]
  },
  {
   "cell_type": "code",
   "execution_count": 9,
   "metadata": {},
   "outputs": [
    {
     "name": "stdout",
     "output_type": "stream",
     "text": [
      "Date        datetime64[ns]\n",
      "Currency            object\n",
      "Exchange           float64\n",
      "dtype: object\n",
      "            Date Currency  Exchange\n",
      "0     2015-01-01      USD    1.0000\n",
      "1     2015-01-01      CAD    1.1583\n",
      "2     2015-01-01      AUD    1.2214\n",
      "3     2015-01-01      EUR    0.8237\n",
      "4     2015-01-01      GBP    0.6415\n",
      "...          ...      ...       ...\n",
      "11210 2021-02-20      USD    1.0000\n",
      "11211 2021-02-20      CAD    1.2610\n",
      "11212 2021-02-20      AUD    1.2723\n",
      "11213 2021-02-20      EUR    0.8238\n",
      "11214 2021-02-20      GBP    0.7126\n",
      "\n",
      "[11215 rows x 3 columns]\n"
     ]
    }
   ],
   "source": [
    "import pandas as pd\n",
    "\n",
    "# Assuming your DataFrame is named exchange_ratesdf\n",
    "exchange_ratesdf['Date'] = pd.to_datetime(exchange_ratesdf['Date'], format='%m/%d/%Y')\n",
    "\n",
    "# Verify the conversion\n",
    "print(exchange_ratesdf.dtypes)\n",
    "print(exchange_ratesdf)\n",
    "\n"
   ]
  },
  {
   "cell_type": "code",
   "execution_count": 10,
   "metadata": {},
   "outputs": [],
   "source": [
    "# Saving the cleaned dataframe to a CSV file\n",
    "exchange_ratesdf.to_csv('cleaned_exchangerates.csv', index=False)"
   ]
  }
 ],
 "metadata": {
  "kernelspec": {
   "display_name": "env",
   "language": "python",
   "name": "python3"
  },
  "language_info": {
   "codemirror_mode": {
    "name": "ipython",
    "version": 3
   },
   "file_extension": ".py",
   "mimetype": "text/x-python",
   "name": "python",
   "nbconvert_exporter": "python",
   "pygments_lexer": "ipython3",
   "version": "3.12.4"
  }
 },
 "nbformat": 4,
 "nbformat_minor": 2
}
